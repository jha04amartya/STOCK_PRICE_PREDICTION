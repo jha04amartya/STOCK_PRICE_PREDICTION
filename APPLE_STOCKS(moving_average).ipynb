{
  "cells": [
    {
      "cell_type": "markdown",
      "metadata": {
        "id": "view-in-github",
        "colab_type": "text"
      },
      "source": [
        "<a href=\"https://colab.research.google.com/github/Adda2003/STOCK_PRICE_PREDICTION/blob/main/APPLE_STOCKS(moving_average).ipynb\" target=\"_parent\"><img src=\"https://colab.research.google.com/assets/colab-badge.svg\" alt=\"Open In Colab\"/></a>"
      ]
    },
    {
      "cell_type": "code",
      "execution_count": null,
      "metadata": {
        "colab": {
          "base_uri": "https://localhost:8080/"
        },
        "id": "c9c0fa4f",
        "outputId": "9ada8c06-acb0-4869-f0af-f8a9ca603d52",
        "scrolled": true
      },
      "outputs": [
        {
          "name": "stdout",
          "output_type": "stream",
          "text": [
            "Looking in indexes: https://pypi.org/simple, https://us-python.pkg.dev/colab-wheels/public/simple/\n",
            "Collecting yfinance\n",
            "  Downloading yfinance-0.1.94-py2.py3-none-any.whl (31 kB)\n",
            "Collecting requests>=2.26\n",
            "  Downloading requests-2.28.1-py3-none-any.whl (62 kB)\n",
            "\u001b[K     |████████████████████████████████| 62 kB 1.6 MB/s \n",
            "\u001b[?25hRequirement already satisfied: lxml>=4.9.1 in /usr/local/lib/python3.8/dist-packages (from yfinance) (4.9.2)\n",
            "Requirement already satisfied: appdirs>=1.4.4 in /usr/local/lib/python3.8/dist-packages (from yfinance) (1.4.4)\n"
          ]
        }
      ],
      "source": [
        "pip install yfinance"
      ],
      "id": "c9c0fa4f"
    },
    {
      "cell_type": "code",
      "execution_count": null,
      "metadata": {
        "id": "71802bfe"
      },
      "outputs": [],
      "source": [
        "pip install pandas-datareader"
      ],
      "id": "71802bfe"
    },
    {
      "cell_type": "code",
      "execution_count": null,
      "metadata": {
        "id": "0a61c820"
      },
      "outputs": [],
      "source": [
        "import numpy as np\n",
        "import pandas as pd\n",
        "import os, datetime\n",
        "import tensorflow as tf\n",
        "from tensorflow.keras.models import *\n",
        "from tensorflow.keras.layers import *\n",
        "import matplotlib.pyplot as plt\n",
        "import pandas_datareader as pdr\n",
        "import yfinance as yf\n",
        "from keras.models import Model,Sequential\n",
        "from keras.optimizers import Adam,SGD,RMSprop\n",
        "from tensorflow.keras.models import load_model"
      ],
      "id": "0a61c820"
    },
    {
      "cell_type": "code",
      "execution_count": null,
      "metadata": {
        "id": "35225595"
      },
      "outputs": [],
      "source": [
        "stocksdata=\"AAPL\"\n",
        "df=yf.download(stocksdata,start=\"1981-1-1\",end=\"2020-12-31\")"
      ],
      "id": "35225595"
    },
    {
      "cell_type": "code",
      "execution_count": null,
      "metadata": {
        "id": "90248c8b"
      },
      "outputs": [],
      "source": [
        "df=df.reset_index()"
      ],
      "id": "90248c8b"
    },
    {
      "cell_type": "code",
      "execution_count": null,
      "metadata": {
        "id": "8b9f3eda"
      },
      "outputs": [],
      "source": [
        "df"
      ],
      "id": "8b9f3eda"
    },
    {
      "cell_type": "code",
      "execution_count": null,
      "metadata": {
        "id": "cc0596b7"
      },
      "outputs": [],
      "source": [
        "df['Volume'].replace(to_replace=0, method='ffill', inplace=True) "
      ],
      "id": "cc0596b7"
    },
    {
      "cell_type": "code",
      "execution_count": null,
      "metadata": {
        "id": "bc62b814"
      },
      "outputs": [],
      "source": [
        "df.describe()"
      ],
      "id": "bc62b814"
    },
    {
      "cell_type": "code",
      "execution_count": null,
      "metadata": {
        "id": "ykaP0I0S6kME"
      },
      "outputs": [],
      "source": [
        "# Apply moving average with a window of 10 days to all columns\n",
        "df[['Open', 'High', 'Low', 'Close', 'Volume']] = df[['Open', 'High', 'Low', 'Close', 'Volume']].rolling(10).mean() \n",
        "\n",
        "# Drop all rows with NaN values\n",
        "df.dropna(how='any', axis=0, inplace=True) \n",
        "df.head()"
      ],
      "id": "ykaP0I0S6kME"
    },
    {
      "cell_type": "code",
      "execution_count": null,
      "metadata": {
        "id": "9603a618"
      },
      "outputs": [],
      "source": [
        "fig = plt.figure(figsize=(15,10))\n",
        "st = fig.suptitle(\"APPLE CLOSE PRICE AND VOLUME\", fontsize=20)\n",
        "st.set_y(0.92)\n",
        "\n",
        "ax1 = fig.add_subplot(211)\n",
        "ax1.plot(df['Close'], label='APPLE Close Price')\n",
        "ax1.set_xticks(range(0, df.shape[0], 1464))\n",
        "ax1.set_xticklabels(df['Date'].loc[::1464])\n",
        "ax1.set_ylabel('Close Price', fontsize=18)\n",
        "ax1.legend(loc=\"upper left\", fontsize=12)\n",
        "\n",
        "ax2 = fig.add_subplot(212)\n",
        "ax2.plot(df['Volume'], label='APPLE Volume')\n",
        "ax2.set_xticks(range(0, df.shape[0], 1464))\n",
        "ax2.set_xticklabels(df['Date'].loc[::1464])\n",
        "ax2.set_ylabel('Volume', fontsize=18)\n",
        "ax2.legend(loc=\"upper left\", fontsize=12)"
      ],
      "id": "9603a618"
    },
    {
      "cell_type": "code",
      "execution_count": null,
      "metadata": {
        "id": "04387cbf"
      },
      "outputs": [],
      "source": [
        "df.drop(columns=['Date'], inplace=True)\n",
        "df.drop(columns=['Adj Close'], inplace=True)"
      ],
      "id": "04387cbf"
    },
    {
      "cell_type": "code",
      "execution_count": null,
      "metadata": {
        "id": "386d2f45"
      },
      "outputs": [],
      "source": [
        "from sklearn.preprocessing import MinMaxScaler\n",
        "scaler=MinMaxScaler(feature_range=(0,1))\n",
        "df=scaler.fit_transform(df)\n",
        "df = pd.DataFrame(df)\n",
        "df.set_axis(['Open','High','Low','Close','Volume'], axis='columns', inplace=True)"
      ],
      "id": "386d2f45"
    },
    {
      "cell_type": "code",
      "execution_count": null,
      "metadata": {
        "id": "e04ab557"
      },
      "outputs": [],
      "source": [
        "df"
      ],
      "id": "e04ab557"
    },
    {
      "cell_type": "code",
      "execution_count": null,
      "metadata": {
        "id": "7035b6b1"
      },
      "outputs": [],
      "source": [
        "times = sorted(df.index.values)\n",
        "last_10pct = sorted(df.index.values)[-int(0.1*len(times))] # Last 10% of series\n",
        "last_20pct = sorted(df.index.values)[-int(0.2*len(times))] # Last 20% of series\n",
        "\n",
        "df_train = df[(df.index < last_20pct)]  # Training data are 80% of total data\n",
        "df_val = df[(df.index >= last_20pct) & (df.index < last_10pct)]\n",
        "df_test = df[(df.index >= last_10pct)]"
      ],
      "id": "7035b6b1"
    },
    {
      "cell_type": "code",
      "execution_count": null,
      "metadata": {
        "id": "f3e8e882"
      },
      "outputs": [],
      "source": [
        "train_data = df_train.values\n",
        "val_data = df_val.values\n",
        "test_data = df_test.values\n",
        "print('Training data shape: {}'.format(train_data.shape))\n",
        "print('Validation data shape: {}'.format(val_data.shape))\n",
        "print('Test data shape: {}'.format(test_data.shape))"
      ],
      "id": "f3e8e882"
    },
    {
      "cell_type": "code",
      "execution_count": null,
      "metadata": {
        "id": "878dcdbf"
      },
      "outputs": [],
      "source": [
        "df_train"
      ],
      "id": "878dcdbf"
    },
    {
      "cell_type": "code",
      "execution_count": null,
      "metadata": {
        "id": "ca355586"
      },
      "outputs": [],
      "source": [
        "fig = plt.figure(figsize=(15,12))\n",
        "st = fig.suptitle(\"Data Separation\", fontsize=20)\n",
        "st.set_y(0.95)\n",
        "\n",
        "###############################################################################\n",
        "\n",
        "ax1 = fig.add_subplot(211)\n",
        "ax1.plot(np.arange(train_data.shape[0]), df_train['Close'], label='Training data')\n",
        "\n",
        "ax1.plot(np.arange(train_data.shape[0], \n",
        "                   train_data.shape[0]+val_data.shape[0]), df_val['Close'], label='Validation data')\n",
        "\n",
        "ax1.plot(np.arange(train_data.shape[0]+val_data.shape[0], \n",
        "                   train_data.shape[0]+val_data.shape[0]+test_data.shape[0]), df_test['Close'], label='Test data')\n",
        "ax1.set_xlabel('Date')\n",
        "ax1.set_ylabel('Normalized Closing Returns')\n",
        "ax1.set_title(\"Close Price\", fontsize=18)\n",
        "ax1.legend(loc=\"best\", fontsize=12)\n",
        "\n",
        "###############################################################################\n",
        "\n",
        "ax2 = fig.add_subplot(212)\n",
        "ax2.plot(np.arange(train_data.shape[0]), df_train['Volume'], label='Training data')\n",
        "\n",
        "ax2.plot(np.arange(train_data.shape[0], \n",
        "                   train_data.shape[0]+val_data.shape[0]), df_val['Volume'], label='Validation data')\n",
        "\n",
        "ax2.plot(np.arange(train_data.shape[0]+val_data.shape[0], \n",
        "                   train_data.shape[0]+val_data.shape[0]+test_data.shape[0]), df_test['Volume'], label='Test data')\n",
        "ax2.set_xlabel('Date')\n",
        "ax2.set_ylabel('Normalized Volume Changes')\n",
        "ax2.set_title(\"Volume\", fontsize=18)\n",
        "ax2.legend(loc=\"best\", fontsize=12)"
      ],
      "id": "ca355586"
    },
    {
      "cell_type": "code",
      "execution_count": null,
      "metadata": {
        "id": "c888f9bc"
      },
      "outputs": [],
      "source": [
        "batch_size = 32\n",
        "seq_len = 128\n",
        "\n",
        "d_k = 256\n",
        "d_v = 256\n",
        "n_heads = 12\n",
        "ff_dim = 256"
      ],
      "id": "c888f9bc"
    },
    {
      "cell_type": "code",
      "execution_count": null,
      "metadata": {
        "id": "2aade9d2"
      },
      "outputs": [],
      "source": [
        "# Training data\n",
        "X_train, y_train = [], []\n",
        "for i in range(seq_len, len(train_data)):\n",
        "  X_train.append(train_data[i-seq_len:i]) # Chunks of training data with a length of 128 df-rows\n",
        "  y_train.append(train_data[:, 3][i]) #Value of 4th column (Close Price) of df-row 128+1\n",
        "X_train, y_train = np.array(X_train), np.array(y_train)\n",
        "\n",
        "###############################################################################\n",
        "\n",
        "# Validation data\n",
        "X_val, y_val = [], []\n",
        "for i in range(seq_len, len(val_data)):\n",
        "    X_val.append(val_data[i-seq_len:i])\n",
        "    y_val.append(val_data[:, 3][i])\n",
        "X_val, y_val = np.array(X_val), np.array(y_val)\n",
        "\n",
        "###############################################################################\n",
        "\n",
        "# Test data\n",
        "X_test, y_test = [], []\n",
        "for i in range(seq_len, len(test_data)):\n",
        "    X_test.append(test_data[i-seq_len:i])\n",
        "    y_test.append(test_data[:, 3][i])    \n",
        "X_test, y_test = np.array(X_test), np.array(y_test)\n",
        "\n",
        "print('Training set shape', X_train.shape, y_train.shape)\n",
        "print('Validation set shape', X_val.shape, y_val.shape)\n",
        "print('Testing set shape' ,X_test.shape, y_test.shape)"
      ],
      "id": "2aade9d2"
    },
    {
      "cell_type": "code",
      "execution_count": null,
      "metadata": {
        "id": "976a2e37"
      },
      "outputs": [],
      "source": [
        "class Time2Vector(Layer):\n",
        "  def __init__(self, seq_len, **kwargs):\n",
        "    super(Time2Vector, self).__init__()\n",
        "    self.seq_len = seq_len\n",
        "\n",
        "  def build(self, input_shape):\n",
        "    '''Initialize weights and biases with shape (batch, seq_len)'''\n",
        "    self.weights_linear = self.add_weight(name='weight_linear',\n",
        "                                shape=(int(self.seq_len),),\n",
        "                                initializer='uniform',\n",
        "                                trainable=True)\n",
        "    \n",
        "    self.bias_linear = self.add_weight(name='bias_linear',\n",
        "                                shape=(int(self.seq_len),),\n",
        "                                initializer='uniform',\n",
        "                                trainable=True)\n",
        "    \n",
        "    self.weights_periodic = self.add_weight(name='weight_periodic',\n",
        "                                shape=(int(self.seq_len),),\n",
        "                                initializer='uniform',\n",
        "                                trainable=True)\n",
        "\n",
        "    self.bias_periodic = self.add_weight(name='bias_periodic',\n",
        "                                shape=(int(self.seq_len),),\n",
        "                                initializer='uniform',\n",
        "                                trainable=True)\n",
        "\n",
        "  def call(self, x):\n",
        "    '''Calculate linear and periodic time features'''\n",
        "    x = tf.math.reduce_mean(x[:,:,:4], axis=-1) \n",
        "    time_linear = self.weights_linear * x + self.bias_linear # Linear time feature\n",
        "    time_linear = tf.expand_dims(time_linear, axis=-1) # Add dimension (batch, seq_len, 1)\n",
        "    \n",
        "    time_periodic = tf.math.sin(tf.multiply(x, self.weights_periodic) + self.bias_periodic)\n",
        "    time_periodic = tf.expand_dims(time_periodic, axis=-1) # Add dimension (batch, seq_len, 1)\n",
        "    return tf.concat([time_linear, time_periodic], axis=-1) # shape = (batch, seq_len, 2)\n",
        "   \n",
        "  def get_config(self): # Needed for saving and loading model with custom layer\n",
        "    config = super().get_config().copy()\n",
        "    config.update({'seq_len': self.seq_len})\n",
        "    return config"
      ],
      "id": "976a2e37"
    },
    {
      "cell_type": "code",
      "execution_count": null,
      "metadata": {
        "id": "2af84849"
      },
      "outputs": [],
      "source": [
        "class SingleAttention(Layer):\n",
        "  def __init__(self, d_k, d_v):\n",
        "    super(SingleAttention, self).__init__()\n",
        "    self.d_k = d_k\n",
        "    self.d_v = d_v\n",
        "\n",
        "  def build(self, input_shape):\n",
        "    self.query = Dense(self.d_k, \n",
        "                       input_shape=input_shape, \n",
        "                       kernel_initializer='glorot_uniform', \n",
        "                       bias_initializer='glorot_uniform')\n",
        "    \n",
        "    self.key = Dense(self.d_k, \n",
        "                     input_shape=input_shape, \n",
        "                     kernel_initializer='glorot_uniform', \n",
        "                     bias_initializer='glorot_uniform')\n",
        "    \n",
        "    self.value = Dense(self.d_v, \n",
        "                       input_shape=input_shape, \n",
        "                       kernel_initializer='glorot_uniform', \n",
        "                       bias_initializer='glorot_uniform')\n",
        "\n",
        "  def call(self, inputs): # inputs = (in_seq, in_seq, in_seq)\n",
        "    q = self.query(inputs[0])\n",
        "    k = self.key(inputs[1])\n",
        "\n",
        "    attn_weights = tf.matmul(q, k, transpose_b=True)\n",
        "    attn_weights = tf.map_fn(lambda x: x/np.sqrt(self.d_k), attn_weights)\n",
        "    attn_weights = tf.nn.softmax(attn_weights, axis=-1)\n",
        "    \n",
        "    v = self.value(inputs[2])\n",
        "    attn_out = tf.matmul(attn_weights, v)\n",
        "    return attn_out    \n",
        "\n",
        "#############################################################################\n",
        "\n",
        "class MultiAttention(Layer):\n",
        "  def __init__(self, d_k, d_v, n_heads):\n",
        "    super(MultiAttention, self).__init__()\n",
        "    self.d_k = d_k\n",
        "    self.d_v = d_v\n",
        "    self.n_heads = n_heads\n",
        "    self.attn_heads = list()\n",
        "\n",
        "  def build(self, input_shape):\n",
        "    for n in range(self.n_heads):\n",
        "      self.attn_heads.append(SingleAttention(self.d_k, self.d_v))  \n",
        "    \n",
        "    # input_shape[0]=(batch, seq_len, 7), input_shape[0][-1]=7 \n",
        "    self.linear = Dense(input_shape[0][-1], \n",
        "                        input_shape=input_shape, \n",
        "                        kernel_initializer='glorot_uniform', \n",
        "                        bias_initializer='glorot_uniform')\n",
        "\n",
        "  def call(self, inputs):\n",
        "    attn = [self.attn_heads[i](inputs) for i in range(self.n_heads)]\n",
        "    concat_attn = tf.concat(attn, axis=-1)\n",
        "    multi_linear = self.linear(concat_attn)\n",
        "    return multi_linear   \n",
        "\n",
        "#############################################################################\n",
        "\n",
        "class TransformerEncoder(Layer):\n",
        "  def __init__(self, d_k, d_v, n_heads, ff_dim, dropout=0.1, **kwargs):\n",
        "    super(TransformerEncoder, self).__init__()\n",
        "    self.d_k = d_k\n",
        "    self.d_v = d_v\n",
        "    self.n_heads = n_heads\n",
        "    self.ff_dim = ff_dim\n",
        "    self.attn_heads = list()\n",
        "    self.dropout_rate = dropout\n",
        "\n",
        "  def build(self, input_shape):\n",
        "    self.attn_multi = MultiAttention(self.d_k, self.d_v, self.n_heads)\n",
        "    self.attn_dropout = Dropout(self.dropout_rate)\n",
        "    self.attn_normalize = LayerNormalization(input_shape=input_shape, epsilon=1e-6)\n",
        "\n",
        "    self.ff_conv1D_1 = Conv1D(filters=self.ff_dim, kernel_size=1, activation='relu')\n",
        "    # input_shape[0]=(batch, seq_len, 7), input_shape[0][-1] = 7 \n",
        "    self.ff_conv1D_2 = Conv1D(filters=input_shape[0][-1], kernel_size=1) \n",
        "    self.ff_dropout = Dropout(self.dropout_rate)\n",
        "    self.ff_normalize = LayerNormalization(input_shape=input_shape, epsilon=1e-6)    \n",
        "  \n",
        "  def call(self, inputs): # inputs = (in_seq, in_seq, in_seq)\n",
        "    attn_layer = self.attn_multi(inputs)\n",
        "    attn_layer = self.attn_dropout(attn_layer)\n",
        "    attn_layer = self.attn_normalize(inputs[0] + attn_layer)\n",
        "\n",
        "    ff_layer = self.ff_conv1D_1(attn_layer)\n",
        "    ff_layer = self.ff_conv1D_2(ff_layer)\n",
        "    ff_layer = self.ff_dropout(ff_layer)\n",
        "    ff_layer = self.ff_normalize(inputs[0] + ff_layer)\n",
        "    return ff_layer \n",
        "\n",
        "  def get_config(self): # Needed for saving and loading model with custom layer\n",
        "    config = super().get_config().copy()\n",
        "    config.update({'d_k': self.d_k,\n",
        "                   'd_v': self.d_v,\n",
        "                   'n_heads': self.n_heads,\n",
        "                   'ff_dim': self.ff_dim,\n",
        "                   'attn_heads': self.attn_heads,\n",
        "                   'dropout_rate': self.dropout_rate})\n",
        "    return config          \n",
        "     "
      ],
      "id": "2af84849"
    },
    {
      "cell_type": "code",
      "execution_count": null,
      "metadata": {
        "id": "325a27f2"
      },
      "outputs": [],
      "source": [
        "def create_model():\n",
        "  '''Initialize time and transformer layers'''\n",
        "  time_embedding = Time2Vector(seq_len)\n",
        "  attn_layer1 = TransformerEncoder(d_k, d_v, n_heads, ff_dim)\n",
        "  attn_layer2 = TransformerEncoder(d_k, d_v, n_heads, ff_dim)\n",
        "  attn_layer3 = TransformerEncoder(d_k, d_v, n_heads, ff_dim)\n",
        "\n",
        "  '''Construct model'''\n",
        "  in_seq = Input(shape=(seq_len, 5))\n",
        "  x = time_embedding(in_seq)\n",
        "  x = Concatenate(axis=-1)([in_seq, x])\n",
        "  x = attn_layer1((x, x, x))\n",
        "  x = attn_layer2((x, x, x))\n",
        "  x = attn_layer3((x, x, x))\n",
        "  x = GlobalAveragePooling1D(data_format='channels_first')(x)\n",
        "  x = Dropout(0.1)(x)\n",
        "  x = Dense(64, activation='relu')(x)\n",
        "  x = Dropout(0.1)(x)\n",
        "  out = Dense(1, activation='linear')(x)\n",
        "\n",
        "  apple_stocks_model = Model(inputs=in_seq, outputs=out)\n",
        "  apple_stocks_model.compile(loss='mse', optimizer=Adam(learning_rate=0.0001, decay=1e-6), metrics=['mae', 'mape','accuracy'])\n",
        "  return apple_stocks_model\n",
        "\n",
        "\n",
        "apple_stocks_model = create_model()\n",
        "apple_stocks_model.summary()"
      ],
      "id": "325a27f2"
    },
    {
      "cell_type": "code",
      "execution_count": null,
      "metadata": {
        "id": "d79c3321"
      },
      "outputs": [],
      "source": [
        "callback = tf.keras.callbacks.ModelCheckpoint('Transformer+TimeEmbedding.hdf5', \n",
        "                                              monitor='val_loss', \n",
        "                                              save_best_only=True, verbose=1)"
      ],
      "id": "d79c3321"
    },
    {
      "cell_type": "code",
      "execution_count": null,
      "metadata": {
        "colab": {
          "background_save": true
        },
        "id": "45ea88ba",
        "outputId": "e4c1c819-9753-42db-ca7e-1ba0e432a875"
      },
      "outputs": [
        {
          "name": "stdout",
          "output_type": "stream",
          "text": [
            "Epoch 1/25\n",
            "248/248 [==============================] - ETA: 0s - loss: 5.1993e-04 - mae: 0.0103 - mape: 1245.4142 - accuracy: 2.5208e-04\n",
            "Epoch 1: val_loss improved from inf to 0.00182, saving model to Transformer+TimeEmbedding.hdf5\n",
            "248/248 [==============================] - 188s 585ms/step - loss: 5.1993e-04 - mae: 0.0103 - mape: 1245.4142 - accuracy: 2.5208e-04 - val_loss: 0.0018 - val_mae: 0.0362 - val_mape: 17.7355 - val_accuracy: 0.0000e+00\n",
            "Epoch 2/25\n",
            "248/248 [==============================] - ETA: 0s - loss: 3.5654e-05 - mae: 0.0038 - mape: 1109.7356 - accuracy: 2.5208e-04\n",
            "Epoch 2: val_loss improved from 0.00182 to 0.00178, saving model to Transformer+TimeEmbedding.hdf5\n",
            "248/248 [==============================] - 143s 577ms/step - loss: 3.5654e-05 - mae: 0.0038 - mape: 1109.7356 - accuracy: 2.5208e-04 - val_loss: 0.0018 - val_mae: 0.0368 - val_mape: 18.5648 - val_accuracy: 0.0000e+00\n",
            "Epoch 3/25\n",
            "248/248 [==============================] - ETA: 0s - loss: 3.0742e-05 - mae: 0.0033 - mape: 674.8447 - accuracy: 2.5208e-04\n",
            "Epoch 3: val_loss did not improve from 0.00178\n",
            "248/248 [==============================] - 138s 555ms/step - loss: 3.0742e-05 - mae: 0.0033 - mape: 674.8447 - accuracy: 2.5208e-04 - val_loss: 0.0020 - val_mae: 0.0393 - val_mape: 19.9395 - val_accuracy: 0.0000e+00\n",
            "Epoch 4/25\n",
            "248/248 [==============================] - ETA: 0s - loss: 2.9354e-05 - mae: 0.0031 - mape: 711.0023 - accuracy: 2.5208e-04\n",
            "Epoch 4: val_loss improved from 0.00178 to 0.00168, saving model to Transformer+TimeEmbedding.hdf5\n",
            "248/248 [==============================] - 138s 558ms/step - loss: 2.9354e-05 - mae: 0.0031 - mape: 711.0023 - accuracy: 2.5208e-04 - val_loss: 0.0017 - val_mae: 0.0339 - val_mape: 16.2903 - val_accuracy: 0.0000e+00\n",
            "Epoch 5/25\n",
            "248/248 [==============================] - ETA: 0s - loss: 2.8089e-05 - mae: 0.0031 - mape: 402.5310 - accuracy: 2.5208e-04\n",
            "Epoch 5: val_loss did not improve from 0.00168\n",
            "248/248 [==============================] - 136s 548ms/step - loss: 2.8089e-05 - mae: 0.0031 - mape: 402.5310 - accuracy: 2.5208e-04 - val_loss: 0.0021 - val_mae: 0.0402 - val_mape: 20.0270 - val_accuracy: 0.0000e+00\n",
            "Epoch 6/25\n",
            "248/248 [==============================] - ETA: 0s - loss: 2.5111e-05 - mae: 0.0028 - mape: 818.5518 - accuracy: 2.5208e-04\n",
            "Epoch 6: val_loss improved from 0.00168 to 0.00168, saving model to Transformer+TimeEmbedding.hdf5\n",
            "248/248 [==============================] - 137s 551ms/step - loss: 2.5111e-05 - mae: 0.0028 - mape: 818.5518 - accuracy: 2.5208e-04 - val_loss: 0.0017 - val_mae: 0.0360 - val_mape: 18.7057 - val_accuracy: 0.0000e+00\n",
            "Epoch 7/25\n",
            "248/248 [==============================] - ETA: 0s - loss: 2.9425e-05 - mae: 0.0030 - mape: 751.1630 - accuracy: 2.5208e-04\n",
            "Epoch 7: val_loss did not improve from 0.00168\n",
            "248/248 [==============================] - 138s 557ms/step - loss: 2.9425e-05 - mae: 0.0030 - mape: 751.1630 - accuracy: 2.5208e-04 - val_loss: 0.0021 - val_mae: 0.0402 - val_mape: 20.3921 - val_accuracy: 0.0000e+00\n",
            "Epoch 8/25\n",
            "248/248 [==============================] - ETA: 0s - loss: 2.3456e-05 - mae: 0.0027 - mape: 530.5665 - accuracy: 2.5208e-04\n",
            "Epoch 8: val_loss did not improve from 0.00168\n",
            "248/248 [==============================] - 136s 549ms/step - loss: 2.3456e-05 - mae: 0.0027 - mape: 530.5665 - accuracy: 2.5208e-04 - val_loss: 0.0017 - val_mae: 0.0364 - val_mape: 18.8359 - val_accuracy: 0.0000e+00\n",
            "Epoch 9/25\n",
            "248/248 [==============================] - ETA: 0s - loss: 2.6499e-05 - mae: 0.0027 - mape: 334.8705 - accuracy: 2.5208e-04\n",
            "Epoch 9: val_loss did not improve from 0.00168\n",
            "248/248 [==============================] - 136s 547ms/step - loss: 2.6499e-05 - mae: 0.0027 - mape: 334.8705 - accuracy: 2.5208e-04 - val_loss: 0.0019 - val_mae: 0.0381 - val_mape: 19.7308 - val_accuracy: 0.0000e+00\n",
            "Epoch 10/25\n",
            "248/248 [==============================] - ETA: 0s - loss: 2.3253e-05 - mae: 0.0026 - mape: 532.7905 - accuracy: 2.5208e-04\n",
            "Epoch 10: val_loss did not improve from 0.00168\n",
            "248/248 [==============================] - 141s 570ms/step - loss: 2.3253e-05 - mae: 0.0026 - mape: 532.7905 - accuracy: 2.5208e-04 - val_loss: 0.0020 - val_mae: 0.0393 - val_mape: 19.9149 - val_accuracy: 0.0000e+00\n",
            "Epoch 11/25\n",
            "248/248 [==============================] - ETA: 0s - loss: 2.3215e-05 - mae: 0.0026 - mape: 430.1653 - accuracy: 2.5208e-04\n",
            "Epoch 11: val_loss did not improve from 0.00168\n",
            "248/248 [==============================] - 142s 574ms/step - loss: 2.3215e-05 - mae: 0.0026 - mape: 430.1653 - accuracy: 2.5208e-04 - val_loss: 0.0019 - val_mae: 0.0380 - val_mape: 19.1060 - val_accuracy: 0.0000e+00\n",
            "Epoch 12/25\n",
            "248/248 [==============================] - ETA: 0s - loss: 2.4524e-05 - mae: 0.0027 - mape: 526.0421 - accuracy: 2.5208e-04\n",
            "Epoch 12: val_loss did not improve from 0.00168\n",
            "248/248 [==============================] - 138s 558ms/step - loss: 2.4524e-05 - mae: 0.0027 - mape: 526.0421 - accuracy: 2.5208e-04 - val_loss: 0.0024 - val_mae: 0.0427 - val_mape: 21.2714 - val_accuracy: 0.0000e+00\n",
            "Epoch 13/25\n",
            "248/248 [==============================] - ETA: 0s - loss: 2.5155e-05 - mae: 0.0027 - mape: 381.9358 - accuracy: 2.5208e-04\n",
            "Epoch 13: val_loss did not improve from 0.00168\n",
            "248/248 [==============================] - 137s 554ms/step - loss: 2.5155e-05 - mae: 0.0027 - mape: 381.9358 - accuracy: 2.5208e-04 - val_loss: 0.0021 - val_mae: 0.0404 - val_mape: 20.5429 - val_accuracy: 0.0000e+00\n",
            "Epoch 14/25\n",
            "248/248 [==============================] - ETA: 0s - loss: 2.3620e-05 - mae: 0.0027 - mape: 310.1153 - accuracy: 2.5208e-04\n",
            "Epoch 14: val_loss did not improve from 0.00168\n",
            "248/248 [==============================] - 138s 557ms/step - loss: 2.3620e-05 - mae: 0.0027 - mape: 310.1153 - accuracy: 2.5208e-04 - val_loss: 0.0024 - val_mae: 0.0428 - val_mape: 21.2972 - val_accuracy: 0.0000e+00\n",
            "Epoch 15/25\n",
            "248/248 [==============================] - ETA: 0s - loss: 2.1997e-05 - mae: 0.0026 - mape: 762.6529 - accuracy: 2.5208e-04\n",
            "Epoch 15: val_loss improved from 0.00168 to 0.00155, saving model to Transformer+TimeEmbedding.hdf5\n",
            "248/248 [==============================] - 139s 562ms/step - loss: 2.1997e-05 - mae: 0.0026 - mape: 762.6529 - accuracy: 2.5208e-04 - val_loss: 0.0016 - val_mae: 0.0342 - val_mape: 18.3618 - val_accuracy: 0.0000e+00\n",
            "Epoch 16/25\n",
            "248/248 [==============================] - ETA: 0s - loss: 2.3902e-05 - mae: 0.0026 - mape: 207.2140 - accuracy: 2.5208e-04\n",
            "Epoch 16: val_loss did not improve from 0.00155\n",
            "248/248 [==============================] - 138s 557ms/step - loss: 2.3902e-05 - mae: 0.0026 - mape: 207.2140 - accuracy: 2.5208e-04 - val_loss: 0.0020 - val_mae: 0.0388 - val_mape: 19.6201 - val_accuracy: 0.0000e+00\n",
            "Epoch 17/25\n",
            "248/248 [==============================] - ETA: 0s - loss: 2.0860e-05 - mae: 0.0025 - mape: 448.5615 - accuracy: 2.5208e-04\n",
            "Epoch 17: val_loss did not improve from 0.00155\n",
            "248/248 [==============================] - 138s 557ms/step - loss: 2.0860e-05 - mae: 0.0025 - mape: 448.5615 - accuracy: 2.5208e-04 - val_loss: 0.0019 - val_mae: 0.0387 - val_mape: 19.7140 - val_accuracy: 0.0000e+00\n",
            "Epoch 18/25\n",
            "248/248 [==============================] - ETA: 0s - loss: 2.1868e-05 - mae: 0.0026 - mape: 319.3988 - accuracy: 2.5208e-04\n",
            "Epoch 18: val_loss did not improve from 0.00155\n",
            "248/248 [==============================] - 137s 553ms/step - loss: 2.1868e-05 - mae: 0.0026 - mape: 319.3988 - accuracy: 2.5208e-04 - val_loss: 0.0018 - val_mae: 0.0372 - val_mape: 19.0946 - val_accuracy: 0.0000e+00\n",
            "Epoch 19/25\n",
            "248/248 [==============================] - ETA: 0s - loss: 2.0606e-05 - mae: 0.0025 - mape: 612.3115 - accuracy: 2.5208e-04\n",
            "Epoch 19: val_loss did not improve from 0.00155\n",
            "248/248 [==============================] - 137s 553ms/step - loss: 2.0606e-05 - mae: 0.0025 - mape: 612.3115 - accuracy: 2.5208e-04 - val_loss: 0.0016 - val_mae: 0.0353 - val_mape: 18.2466 - val_accuracy: 0.0000e+00\n",
            "Epoch 20/25\n",
            "248/248 [==============================] - ETA: 0s - loss: 2.1089e-05 - mae: 0.0024 - mape: 316.0201 - accuracy: 2.5208e-04\n",
            "Epoch 20: val_loss did not improve from 0.00155\n",
            "248/248 [==============================] - 139s 562ms/step - loss: 2.1089e-05 - mae: 0.0024 - mape: 316.0201 - accuracy: 2.5208e-04 - val_loss: 0.0018 - val_mae: 0.0376 - val_mape: 19.2658 - val_accuracy: 0.0000e+00\n",
            "Epoch 21/25\n",
            "248/248 [==============================] - ETA: 0s - loss: 2.1666e-05 - mae: 0.0025 - mape: 445.4570 - accuracy: 2.5208e-04\n",
            "Epoch 21: val_loss did not improve from 0.00155\n",
            "248/248 [==============================] - 136s 550ms/step - loss: 2.1666e-05 - mae: 0.0025 - mape: 445.4570 - accuracy: 2.5208e-04 - val_loss: 0.0020 - val_mae: 0.0384 - val_mape: 19.1707 - val_accuracy: 0.0000e+00\n",
            "Epoch 22/25\n",
            "248/248 [==============================] - ETA: 0s - loss: 2.0502e-05 - mae: 0.0025 - mape: 439.3967 - accuracy: 2.5208e-04\n",
            "Epoch 22: val_loss did not improve from 0.00155\n",
            "248/248 [==============================] - 137s 551ms/step - loss: 2.0502e-05 - mae: 0.0025 - mape: 439.3967 - accuracy: 2.5208e-04 - val_loss: 0.0019 - val_mae: 0.0380 - val_mape: 19.4326 - val_accuracy: 0.0000e+00\n",
            "Epoch 23/25\n",
            "248/248 [==============================] - ETA: 0s - loss: 2.1529e-05 - mae: 0.0025 - mape: 539.9130 - accuracy: 2.5208e-04\n",
            "Epoch 23: val_loss did not improve from 0.00155\n",
            "248/248 [==============================] - 139s 561ms/step - loss: 2.1529e-05 - mae: 0.0025 - mape: 539.9130 - accuracy: 2.5208e-04 - val_loss: 0.0019 - val_mae: 0.0383 - val_mape: 19.3793 - val_accuracy: 0.0000e+00\n",
            "Epoch 24/25\n",
            "248/248 [==============================] - ETA: 0s - loss: 1.9270e-05 - mae: 0.0024 - mape: 853.7039 - accuracy: 2.5208e-04\n",
            "Epoch 24: val_loss did not improve from 0.00155\n",
            "248/248 [==============================] - 137s 554ms/step - loss: 1.9270e-05 - mae: 0.0024 - mape: 853.7039 - accuracy: 2.5208e-04 - val_loss: 0.0023 - val_mae: 0.0413 - val_mape: 20.6048 - val_accuracy: 0.0000e+00\n",
            "Epoch 25/25\n",
            "248/248 [==============================] - ETA: 0s - loss: 2.0989e-05 - mae: 0.0025 - mape: 478.9525 - accuracy: 2.5208e-04\n",
            "Epoch 25: val_loss did not improve from 0.00155\n",
            "248/248 [==============================] - 137s 554ms/step - loss: 2.0989e-05 - mae: 0.0025 - mape: 478.9525 - accuracy: 2.5208e-04 - val_loss: 0.0019 - val_mae: 0.0379 - val_mape: 19.3512 - val_accuracy: 0.0000e+00\n"
          ]
        }
      ],
      "source": [
        "history=apple_stocks_model.fit(\n",
        "    x=X_train,\n",
        "    y=y_train,\n",
        "    batch_size=32,\n",
        "    epochs=25,\n",
        "    verbose='auto',\n",
        "    callbacks=[callback],\n",
        "    validation_split=0.0,\n",
        "    validation_data=(X_val,y_val),\n",
        "    class_weight=None,\n",
        "    sample_weight=None,\n",
        "    initial_epoch=0,\n",
        "    steps_per_epoch=7941//32,\n",
        "    validation_steps=881//32,\n",
        "    validation_batch_size=32,\n",
        ")"
      ],
      "id": "45ea88ba"
    },
    {
      "cell_type": "code",
      "execution_count": null,
      "metadata": {
        "colab": {
          "background_save": true
        },
        "id": "81e5871e"
      },
      "outputs": [],
      "source": [],
      "id": "81e5871e"
    },
    {
      "cell_type": "code",
      "execution_count": null,
      "metadata": {
        "colab": {
          "background_save": true
        },
        "id": "3ea90072"
      },
      "outputs": [],
      "source": [],
      "id": "3ea90072"
    },
    {
      "cell_type": "code",
      "execution_count": null,
      "metadata": {
        "colab": {
          "background_save": true
        },
        "id": "533374ca"
      },
      "outputs": [],
      "source": [
        "model = tf.keras.models.load_model(r\"Transformer+TimeEmbedding.hdf5\",\n",
        "                                   custom_objects={'Time2Vector': Time2Vector, \n",
        "                                                   'SingleAttention': SingleAttention,\n",
        "                                                   'MultiAttention': MultiAttention,\n",
        "                                                   'TransformerEncoder': TransformerEncoder})"
      ],
      "id": "533374ca"
    },
    {
      "cell_type": "code",
      "execution_count": null,
      "metadata": {
        "id": "e9fd23bc"
      },
      "outputs": [],
      "source": [
        "train_pred = model.predict(X_train)\n",
        "val_pred = model.predict(X_val)\n",
        "test_pred = model.predict(X_test)"
      ],
      "id": "e9fd23bc"
    },
    {
      "cell_type": "code",
      "execution_count": null,
      "metadata": {
        "colab": {
          "background_save": true
        },
        "id": "2ced7094",
        "outputId": "5b7c15db-becc-48e3-e0d8-2f0fcb9f4fa5"
      },
      "outputs": [
        {
          "data": {
            "text/plain": [
              "<matplotlib.legend.Legend at 0x7fb667c6b790>"
            ]
          },
          "execution_count": 27,
          "metadata": {},
          "output_type": "execute_result"
        },
        {
          "data": {
            "image/png": "[encoded data removed]",
            "text/plain": [
              "<Figure size 1080x1440 with 3 Axes>"
            ]
          },
          "metadata": {},
          "output_type": "display_data"
        }
      ],
      "source": [
        "fig = plt.figure(figsize=(15,20))\n",
        "st = fig.suptitle(\"Transformer + TimeEmbedding Model\", fontsize=22)\n",
        "st.set_y(0.92)\n",
        "\n",
        "#Plot training data results\n",
        "ax11 = fig.add_subplot(311)\n",
        "ax11.plot(train_data[:, 3], label='APPLE Closing Returns')\n",
        "ax11.plot(np.arange(seq_len, train_pred.shape[0]+seq_len), train_pred, linewidth=3, label='Predicted APPLE Closing Returns')\n",
        "ax11.set_title(\"Training Data\", fontsize=18)\n",
        "ax11.set_xlabel('Date')\n",
        "ax11.set_ylabel('IBM Closing Returns')\n",
        "ax11.legend(loc=\"best\", fontsize=12)\n",
        "\n",
        "#Plot validation data results\n",
        "ax21 = fig.add_subplot(312)\n",
        "ax21.plot(val_data[:, 3], label='IBM Closing Returns')\n",
        "ax21.plot(np.arange(seq_len, val_pred.shape[0]+seq_len), val_pred, linewidth=3, label='Predicted IBM Closing Returns')\n",
        "ax21.set_title(\"Validation Data\", fontsize=18)\n",
        "ax21.set_xlabel('Date')\n",
        "ax21.set_ylabel('IBM Closing Returns')\n",
        "ax21.legend(loc=\"best\", fontsize=12)\n",
        "\n",
        "#Plot test data results\n",
        "ax31 = fig.add_subplot(313)\n",
        "ax31.plot(test_data[:, 3], label='IBM Closing Returns')\n",
        "ax31.plot(np.arange(seq_len, test_pred.shape[0]+seq_len), test_pred, linewidth=3, label='Predicted IBM Closing Returns')\n",
        "ax31.set_title(\"Test Data\", fontsize=18)\n",
        "ax31.set_xlabel('Date')\n",
        "ax31.set_ylabel('IBM Closing Returns')\n",
        "ax31.legend(loc=\"best\", fontsize=12)"
      ],
      "id": "2ced7094"
    },
    {
      "cell_type": "code",
      "execution_count": null,
      "metadata": {
        "colab": {
          "background_save": true
        },
        "id": "54dea443"
      },
      "outputs": [],
      "source": [],
      "id": "54dea443"
    },
    {
      "cell_type": "code",
      "execution_count": null,
      "metadata": {
        "colab": {
          "background_save": true
        },
        "id": "c41af1d9"
      },
      "outputs": [],
      "source": [],
      "id": "c41af1d9"
    },
    {
      "cell_type": "code",
      "execution_count": null,
      "metadata": {
        "colab": {
          "background_save": true
        },
        "id": "bb2f677d"
      },
      "outputs": [],
      "source": [],
      "id": "bb2f677d"
    },
    {
      "cell_type": "code",
      "execution_count": null,
      "metadata": {
        "id": "f7169f38"
      },
      "outputs": [],
      "source": [],
      "id": "f7169f38"
    }
  ],
  "metadata": {
    "accelerator": "GPU",
    "colab": {
      "provenance": [],
      "include_colab_link": true
    },
    "gpuClass": "standard",
    "kernelspec": {
      "display_name": "Python 3 (ipykernel)",
      "language": "python",
      "name": "python3"
    },
    "language_info": {
      "codemirror_mode": {
        "name": "ipython",
        "version": 3
      },
      "file_extension": ".py",
      "mimetype": "text/x-python",
      "name": "python",
      "nbconvert_exporter": "python",
      "pygments_lexer": "ipython3",
      "version": "3.9.7"
    }
  },
  "nbformat": 4,
  "nbformat_minor": 5
}